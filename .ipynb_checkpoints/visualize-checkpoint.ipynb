{
 "cells": [
  {
   "cell_type": "code",
   "execution_count": null,
   "metadata": {},
   "outputs": [],
   "source": [
    "import os\n",
    "from os.path import join\n",
    "\n",
    "from tqdm.std import tqdm\n",
    "\n",
    "import random\n",
    "import re\n",
    "from datetime import date\n",
    "from pathlib import Path\n",
    "from typing import Union\n",
    "\n",
    "import SimpleITK as sitk\n",
    "import matplotlib.pyplot as plt\n",
    "import numpy as np\n",
    "import scipy.ndimage\n",
    "from scipy.ndimage import gaussian_filter1d\n",
    "from tqdm import tqdm\n",
    "from scipy import ndimage\n",
    "import numpy\n",
    "\n",
    "import trimesh\n",
    "from skimage import measure\n",
    "import numpy as np\n",
    "import matplotlib.pyplot as plt\n",
    "from mpl_toolkits.mplot3d.art3d import Poly3DCollection\n",
    "\n",
    "from skimage import measure\n",
    "from skimage.draw import ellipsoid"
   ]
  },
  {
   "cell_type": "code",
   "execution_count": null,
   "metadata": {},
   "outputs": [],
   "source": [
    "\n",
    "%matplotlib widget\n",
    "import matplotlib.pyplot as plt\n",
    "from mpl_toolkits.mplot3d import proj3d\n",
    "from mpl_toolkits.mplot3d.art3d import Line3DCollection\n",
    "\n",
    "def plot_pointclouds(pointclouds: Union[list, tuple], show_matches=False):\n",
    "    fig = plt.figure(figsize=(8, 8))\n",
    "    ax = fig.add_subplot(111, projection='3d')\n",
    "\n",
    "    for pcd in pointclouds:\n",
    "        pos = ax.scatter(pcd[:,0], pcd[:,1], pcd[:,2], s=1) # marker='o')\n",
    "    if len(pointclouds) == 2 and show_matches and pointclouds[0].shape[0] == pointclouds[1].shape[0]:\n",
    "        lines = [[p1, pointclouds[1][enum]] for enum, p1 in enumerate(pointclouds[0])]\n",
    "        lc = Line3DCollection(lines, colors='k', alpha=0.3)\n",
    "        ax.add_collection3d(lc)\n",
    "    plt.show()"
   ]
  },
  {
   "cell_type": "code",
   "execution_count": null,
   "metadata": {},
   "outputs": [],
   "source": [
    "ref_reg1 = trimesh.load('/media/medical/projects/head_and_neck/onkoi_2019/dissm/onkoi-train/Parotid_L_interp_mesh_simplified_reg_scaled_tps-rpm-correspondence/case_01_OAR_Parotid_L.ply').vertices\n",
    "ref_reg2 = trimesh.load('/media/medical/projects/head_and_neck/onkoi_2019/dissm/onkoi-train/Parotid_L_interp_mesh_simplified_reg_scaled_tps-rpm-correspondence/case_02_OAR_Parotid_L.ply').vertices"
   ]
  },
  {
   "cell_type": "code",
   "execution_count": null,
   "metadata": {},
   "outputs": [],
   "source": [
    "plot_pointclouds([ref_reg1, ref_reg2], True)"
   ]
  },
  {
   "cell_type": "code",
   "execution_count": null,
   "metadata": {},
   "outputs": [],
   "source": []
  }
 ],
 "metadata": {
  "kernelspec": {
   "display_name": "Python 3.8.3 ('base')",
   "language": "python",
   "name": "python3"
  },
  "language_info": {
   "codemirror_mode": {
    "name": "ipython",
    "version": 3
   },
   "file_extension": ".py",
   "mimetype": "text/x-python",
   "name": "python",
   "nbconvert_exporter": "python",
   "pygments_lexer": "ipython3",
   "version": "3.8.3"
  },
  "orig_nbformat": 4,
  "vscode": {
   "interpreter": {
    "hash": "61a57a4b5406d2de388e2f91097d4e4bcd7d5f4a46f53a795aa28a02eed27fc5"
   }
  }
 },
 "nbformat": 4,
 "nbformat_minor": 2
}
